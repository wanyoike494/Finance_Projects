{
 "cells": [
  {
   "cell_type": "code",
   "execution_count": 1,
   "id": "172c4246-925c-46c2-acc8-5fa52b91ef2e",
   "metadata": {},
   "outputs": [
    {
     "data": {
      "text/plain": [
       "0.5672303344358536"
      ]
     },
     "execution_count": 1,
     "metadata": {},
     "output_type": "execute_result"
    }
   ],
   "source": [
    "import numpy_financial as npf\n",
    ">>> npf.npv([-250000, 100000, 150000, 200000, 250000, 300000])"
   ]
  },
  {
   "cell_type": "code",
   "execution_count": null,
   "id": "a8fe8358-e858-478f-afad-85ca3abd1ad6",
   "metadata": {},
   "outputs": [],
   "source": []
  }
 ],
 "metadata": {
  "kernelspec": {
   "display_name": "Python 3 (ipykernel)",
   "language": "python",
   "name": "python3"
  },
  "language_info": {
   "codemirror_mode": {
    "name": "ipython",
    "version": 3
   },
   "file_extension": ".py",
   "mimetype": "text/x-python",
   "name": "python",
   "nbconvert_exporter": "python",
   "pygments_lexer": "ipython3",
   "version": "3.12.2"
  }
 },
 "nbformat": 4,
 "nbformat_minor": 5
}
