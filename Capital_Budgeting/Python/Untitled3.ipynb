{
 "cells": [
  {
   "cell_type": "code",
   "execution_count": 1,
   "id": "7e57d006-fe75-4088-bb20-0de73c46e77d",
   "metadata": {},
   "outputs": [
    {
     "name": "stdin",
     "output_type": "stream",
     "text": [
      "Enter the number of years:  5\n",
      "Enter the cash flow for year 1:  3000\n",
      "Enter the cash flow for year 2:  3500\n",
      "Enter the cash flow for year 3:  4000\n",
      "Enter the cash flow for year 4:  4500\n",
      "Enter the cash flow for year 5:  5000\n",
      "Enter the initial investment:  10000\n",
      "Enter the discount rate (in percentage):  10\n"
     ]
    },
    {
     "name": "stdout",
     "output_type": "stream",
     "text": [
      "The net present value (NPV) is: $4803.26\n"
     ]
    }
   ],
   "source": [
    "def calculate_npv():\n",
    "    # Get the number of years\n",
    "    num_years = int(input(\"Enter the number of years: \"))\n",
    "\n",
    "    # Get the cash flows for each year\n",
    "    cash_flows = []\n",
    "    for year in range(1, num_years + 1):\n",
    "        cash_flow = float(input(f\"Enter the cash flow for year {year}: \"))\n",
    "        cash_flows.append(cash_flow)\n",
    "\n",
    "    # Get the initial investment\n",
    "    initial_investment = float(input(\"Enter the initial investment: \"))\n",
    "\n",
    "    # Get the discount rate\n",
    "    discount_rate = float(input(\"Enter the discount rate (in percentage): \"))\n",
    "    discount_rate /= 100  # Convert to decimal\n",
    "\n",
    "    # Calculate the NPV\n",
    "    npv = -initial_investment\n",
    "    for year, cash_flow in enumerate(cash_flows, start=1):\n",
    "        present_value = cash_flow / (1 + discount_rate) ** year\n",
    "        npv += present_value\n",
    "\n",
    "    return npv\n",
    "\n",
    "# Get the NPV from the function\n",
    "net_present_value = calculate_npv()\n",
    "\n",
    "# Print the result\n",
    "print(f\"The net present value (NPV) is: ${net_present_value:.2f}\")"
   ]
  },
  {
   "cell_type": "code",
   "execution_count": null,
   "id": "075158bc-8100-4bfe-a8c5-02fb4a16b7c6",
   "metadata": {},
   "outputs": [],
   "source": []
  }
 ],
 "metadata": {
  "kernelspec": {
   "display_name": "Python 3 (ipykernel)",
   "language": "python",
   "name": "python3"
  },
  "language_info": {
   "codemirror_mode": {
    "name": "ipython",
    "version": 3
   },
   "file_extension": ".py",
   "mimetype": "text/x-python",
   "name": "python",
   "nbconvert_exporter": "python",
   "pygments_lexer": "ipython3",
   "version": "3.12.2"
  }
 },
 "nbformat": 4,
 "nbformat_minor": 5
}
