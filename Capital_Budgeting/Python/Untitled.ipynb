{
 "cells": [
  {
   "cell_type": "code",
   "execution_count": 1,
   "id": "bc2541b9-f17d-43d6-9a91-87b02923d298",
   "metadata": {},
   "outputs": [
    {
     "name": "stdin",
     "output_type": "stream",
     "text": [
      "Enter the number of years:  5\n",
      "Enter the cash flow for year 1:  3000\n",
      "Enter the cash flow for year 2:  3500\n",
      "Enter the cash flow for year 3:  4000\n",
      "Enter the cash flow for year 4:  4500\n",
      "Enter the cash flow for year 5:  5000\n",
      "Enter the initial investment:  10000\n",
      "Enter the discount rate (in percentage):  10\n"
     ]
    },
    {
     "name": "stdout",
     "output_type": "stream",
     "text": [
      "The net present value is: 4803.26\n"
     ]
    }
   ],
   "source": [
    "# Prompt user to enter the number of years\n",
    "num_years = int(input(\"Enter the number of years: \"))\n",
    "\n",
    "# Initialize list to store cash flows\n",
    "cash_flows = []\n",
    "\n",
    "# Prompt user to enter cash flows for each year\n",
    "for i in range(1, num_years + 1):\n",
    "    cash_flow = float(input(f\"Enter the cash flow for year {i}: \"))\n",
    "    cash_flows.append(cash_flow)\n",
    "\n",
    "# Prompt user to enter initial investment\n",
    "initial_investment = float(input(\"Enter the initial investment: \"))\n",
    "\n",
    "# Prompt user to enter discount rate in percentage\n",
    "discount_rate = float(input(\"Enter the discount rate (in percentage): \")) / 100\n",
    "\n",
    "# Calculate NPV\n",
    "npv = -initial_investment\n",
    "for i, cash_flow in enumerate(cash_flows):\n",
    "    npv += cash_flow / (1 + discount_rate) ** (i + 1)\n",
    "\n",
    "# Print NPV\n",
    "print(f\"The net present value is: {npv:.2f}\")\n"
   ]
  },
  {
   "cell_type": "code",
   "execution_count": 2,
   "id": "72631b62-8cf1-410b-a30b-abd11354d97f",
   "metadata": {},
   "outputs": [
    {
     "data": {
      "text/plain": [
       "5"
      ]
     },
     "execution_count": 2,
     "metadata": {},
     "output_type": "execute_result"
    }
   ],
   "source": [
    "num_years"
   ]
  },
  {
   "cell_type": "code",
   "execution_count": 3,
   "id": "a14edfd7-6761-49e2-aa09-915392269630",
   "metadata": {},
   "outputs": [
    {
     "data": {
      "text/plain": [
       "[3000.0, 3500.0, 4000.0, 4500.0, 5000.0]"
      ]
     },
     "execution_count": 3,
     "metadata": {},
     "output_type": "execute_result"
    }
   ],
   "source": [
    "cash_flows"
   ]
  },
  {
   "cell_type": "code",
   "execution_count": 4,
   "id": "c5743665-2372-4bbf-92ad-6797a6c965d5",
   "metadata": {},
   "outputs": [
    {
     "data": {
      "text/plain": [
       "0.1"
      ]
     },
     "execution_count": 4,
     "metadata": {},
     "output_type": "execute_result"
    }
   ],
   "source": [
    "discount_rate"
   ]
  },
  {
   "cell_type": "code",
   "execution_count": null,
   "id": "ab0f1e03-b651-4df8-a475-7492c67a06ed",
   "metadata": {},
   "outputs": [],
   "source": []
  }
 ],
 "metadata": {
  "kernelspec": {
   "display_name": "Python 3 (ipykernel)",
   "language": "python",
   "name": "python3"
  },
  "language_info": {
   "codemirror_mode": {
    "name": "ipython",
    "version": 3
   },
   "file_extension": ".py",
   "mimetype": "text/x-python",
   "name": "python",
   "nbconvert_exporter": "python",
   "pygments_lexer": "ipython3",
   "version": "3.12.2"
  }
 },
 "nbformat": 4,
 "nbformat_minor": 5
}
