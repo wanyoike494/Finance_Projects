{
 "cells": [
  {
   "cell_type": "code",
   "execution_count": 5,
   "id": "96c41ab1-fbc4-4591-b8a1-0bfbe3364bf9",
   "metadata": {},
   "outputs": [
    {
     "name": "stdin",
     "output_type": "stream",
     "text": [
      "Enter the number of years:  5\n",
      "Enter cash flow for year 1:  3000\n",
      "Enter cash flow for year 2:  3500\n",
      "Enter cash flow for year 3:  4000\n",
      "Enter cash flow for year 4:  4500\n",
      "Enter cash flow for year 5:  5000\n",
      "Enter the discount rate in percentage):  10\n"
     ]
    },
    {
     "name": "stdout",
     "output_type": "stream",
     "text": [
      "Net Present Value (NPV): 4803.261078788702\n"
     ]
    }
   ],
   "source": [
    "import numpy_financial as npf\n",
    "\n",
    "# input number of years\n",
    "num_years = int(input(\"Enter the number of years: \"))\n",
    "\n",
    "#cashflows\n",
    "cash_flows = [-10000] #numpy financial requires that initial investment be entered the first and negated \n",
    "                      #in the cashflows list\n",
    "for i in range(num_years):\n",
    "        cash_flow = float(input(f\"Enter cash flow for year {i+1}: \"))\n",
    "        cash_flows.append(cash_flow)\n",
    "\n",
    "# Discount rate (annual rate)\n",
    "discount_rate = float(input(\"Enter the discount rate in percentage): \")) / 100\n",
    "\n",
    "# Calculate NPV\n",
    "npv = npf.npv(discount_rate, cash_flows)\n",
    "\n",
    "print(\"Net Present Value (NPV):\", npv)\n"
   ]
  },
  {
   "cell_type": "code",
   "execution_count": null,
   "id": "7d5875f8-893e-4fa0-88f8-d477bf8684a9",
   "metadata": {},
   "outputs": [],
   "source": []
  }
 ],
 "metadata": {
  "kernelspec": {
   "display_name": "Python 3 (ipykernel)",
   "language": "python",
   "name": "python3"
  },
  "language_info": {
   "codemirror_mode": {
    "name": "ipython",
    "version": 3
   },
   "file_extension": ".py",
   "mimetype": "text/x-python",
   "name": "python",
   "nbconvert_exporter": "python",
   "pygments_lexer": "ipython3",
   "version": "3.12.2"
  }
 },
 "nbformat": 4,
 "nbformat_minor": 5
}
