{
 "cells": [
  {
   "cell_type": "code",
   "execution_count": 1,
   "id": "01ff7e3a-2b57-4eb6-a955-f06e1feb4039",
   "metadata": {},
   "outputs": [
    {
     "name": "stdin",
     "output_type": "stream",
     "text": [
      "Enter the number of years:  5\n",
      "Enter the cash flow for year 1:  3000\n",
      "Enter the cash flow for year 2:  3500\n",
      "Enter the cash flow for year 3:  4000\n",
      "Enter the cash flow for year 4:  4500\n",
      "Enter the cash flow for year 5:  5000\n",
      "Enter the initial investment:  10000\n",
      "Enter the discount rate in percentage:  10\n"
     ]
    },
    {
     "name": "stderr",
     "output_type": "stream",
     "text": [
      "/tmp/ipykernel_8379/3996101231.py:16: DeprecationWarning: In accordance with NEP 32, the function npv was removed from NumPy version 1.20.  A replacement for this function is available in the numpy_financial library: https://pypi.org/project/numpy-financial\n",
      "  npv = np.npv(discount_rate, [-initial_investment] + cash_flows)\n"
     ]
    },
    {
     "ename": "RuntimeError",
     "evalue": "In accordance with NEP 32, the function npv was removed from NumPy version 1.20.  A replacement for this function is available in the numpy_financial library: https://pypi.org/project/numpy-financial",
     "output_type": "error",
     "traceback": [
      "\u001b[0;31m---------------------------------------------------------------------------\u001b[0m",
      "\u001b[0;31mRuntimeError\u001b[0m                              Traceback (most recent call last)",
      "Cell \u001b[0;32mIn[1], line 16\u001b[0m\n\u001b[1;32m     13\u001b[0m discount_rate \u001b[38;5;241m=\u001b[39m \u001b[38;5;28mfloat\u001b[39m(\u001b[38;5;28minput\u001b[39m(\u001b[38;5;124m\"\u001b[39m\u001b[38;5;124mEnter the discount rate in percentage: \u001b[39m\u001b[38;5;124m\"\u001b[39m)) \u001b[38;5;241m/\u001b[39m \u001b[38;5;241m100\u001b[39m\n\u001b[1;32m     15\u001b[0m \u001b[38;5;66;03m# Calculating the NPV using numpy's npv() method\u001b[39;00m\n\u001b[0;32m---> 16\u001b[0m npv \u001b[38;5;241m=\u001b[39m \u001b[43mnp\u001b[49m\u001b[38;5;241;43m.\u001b[39;49m\u001b[43mnpv\u001b[49m\u001b[43m(\u001b[49m\u001b[43mdiscount_rate\u001b[49m\u001b[43m,\u001b[49m\u001b[43m \u001b[49m\u001b[43m[\u001b[49m\u001b[38;5;241;43m-\u001b[39;49m\u001b[43minitial_investment\u001b[49m\u001b[43m]\u001b[49m\u001b[43m \u001b[49m\u001b[38;5;241;43m+\u001b[39;49m\u001b[43m \u001b[49m\u001b[43mcash_flows\u001b[49m\u001b[43m)\u001b[49m\n\u001b[1;32m     18\u001b[0m \u001b[38;5;28mprint\u001b[39m(\u001b[38;5;124mf\u001b[39m\u001b[38;5;124m\"\u001b[39m\u001b[38;5;124mThe Net Present Value (NPV) of the cash flows is: \u001b[39m\u001b[38;5;132;01m{\u001b[39;00mnpv\u001b[38;5;132;01m:\u001b[39;00m\u001b[38;5;124m.2f\u001b[39m\u001b[38;5;132;01m}\u001b[39;00m\u001b[38;5;124m\"\u001b[39m)\n",
      "File \u001b[0;32m~/.local/lib/python3.12/site-packages/numpy/__init__.py:303\u001b[0m, in \u001b[0;36m__getattr__.<locals>._expired\u001b[0;34m(*args, **kwds)\u001b[0m\n\u001b[1;32m    302\u001b[0m \u001b[38;5;28;01mdef\u001b[39;00m \u001b[38;5;21m_expired\u001b[39m(\u001b[38;5;241m*\u001b[39margs, \u001b[38;5;241m*\u001b[39m\u001b[38;5;241m*\u001b[39mkwds):\n\u001b[0;32m--> 303\u001b[0m     \u001b[38;5;28;01mraise\u001b[39;00m \u001b[38;5;167;01mRuntimeError\u001b[39;00m(msg)\n",
      "\u001b[0;31mRuntimeError\u001b[0m: In accordance with NEP 32, the function npv was removed from NumPy version 1.20.  A replacement for this function is available in the numpy_financial library: https://pypi.org/project/numpy-financial"
     ]
    }
   ],
   "source": [
    "import numpy as np\n",
    "\n",
    "# Prompting the user to enter the number of years\n",
    "num_years = int(input(\"Enter the number of years: \"))\n",
    "\n",
    "# Prompting the user to enter the cash flows for each year\n",
    "cash_flows = [float(input(f\"Enter the cash flow for year {i+1}: \")) for i in range(num_years)]\n",
    "\n",
    "# Prompting the user to enter the initial investment\n",
    "initial_investment = float(input(\"Enter the initial investment: \"))\n",
    "\n",
    "# Prompting the user to enter the discount rate in percentage\n",
    "discount_rate = float(input(\"Enter the discount rate in percentage: \")) / 100\n",
    "\n",
    "# Calculating the NPV using numpy's npv() method\n",
    "npv = np.npv(discount_rate, [-initial_investment] + cash_flows)\n",
    "\n",
    "print(f\"The Net Present Value (NPV) of the cash flows is: {npv:.2f}\")\n"
   ]
  },
  {
   "cell_type": "code",
   "execution_count": null,
   "id": "d819d147-fe0f-4c96-9209-7e204951bceb",
   "metadata": {},
   "outputs": [],
   "source": []
  }
 ],
 "metadata": {
  "kernelspec": {
   "display_name": "Python 3 (ipykernel)",
   "language": "python",
   "name": "python3"
  },
  "language_info": {
   "codemirror_mode": {
    "name": "ipython",
    "version": 3
   },
   "file_extension": ".py",
   "mimetype": "text/x-python",
   "name": "python",
   "nbconvert_exporter": "python",
   "pygments_lexer": "ipython3",
   "version": "3.12.2"
  }
 },
 "nbformat": 4,
 "nbformat_minor": 5
}
