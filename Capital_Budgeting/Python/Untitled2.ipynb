{
 "cells": [
  {
   "cell_type": "code",
   "execution_count": 1,
   "id": "78999008-e081-4822-9855-9d1857bc85c4",
   "metadata": {},
   "outputs": [
    {
     "name": "stdin",
     "output_type": "stream",
     "text": [
      "Enter the number of years:  5\n",
      "Enter cash flow for year 1:  3000\n",
      "Enter cash flow for year 2:  3500\n",
      "Enter cash flow for year 3:  4000\n",
      "Enter cash flow for year 4:  4500\n",
      "Enter cash flow for year 5:  5000\n",
      "Enter initial investment:  10000\n",
      "Enter discount rate (as a percentage):  10\n"
     ]
    },
    {
     "name": "stdout",
     "output_type": "stream",
     "text": [
      "Net Present Value (NPV): 4803.26\n"
     ]
    }
   ],
   "source": [
    "def get_cashflows(num_years):\n",
    "    cashflows = []\n",
    "    for i in range(num_years):\n",
    "        cashflow = float(input(f\"Enter cash flow for year {i+1}: \"))\n",
    "        cashflows.append(cashflow)\n",
    "    return cashflows\n",
    "\n",
    "def calculate_npv(cashflows, initial_investment, discount_rate):\n",
    "    npv = -initial_investment\n",
    "    for t, cashflow in enumerate(cashflows):\n",
    "        npv += cashflow / (1 + discount_rate) ** (t + 1)\n",
    "    return npv\n",
    "\n",
    "def main():\n",
    "    try:\n",
    "        num_years = int(input(\"Enter the number of years: \"))\n",
    "        cashflows = get_cashflows(num_years)\n",
    "        initial_investment = float(input(\"Enter initial investment: \"))\n",
    "        discount_rate_percent = float(input(\"Enter discount rate (as a percentage): \"))\n",
    "        discount_rate = discount_rate_percent / 100\n",
    "\n",
    "        npv_result = calculate_npv(cashflows, initial_investment, discount_rate)\n",
    "        print(f\"Net Present Value (NPV): {npv_result:.2f}\")\n",
    "    except ValueError:\n",
    "        print(\"Invalid input. Please enter valid numeric values.\")\n",
    "\n",
    "if __name__ == \"__main__\":\n",
    "    main()"
   ]
  },
  {
   "cell_type": "code",
   "execution_count": null,
   "id": "07f25dff-565f-46fc-8f91-19e8f9127fc4",
   "metadata": {},
   "outputs": [],
   "source": []
  }
 ],
 "metadata": {
  "kernelspec": {
   "display_name": "Python 3 (ipykernel)",
   "language": "python",
   "name": "python3"
  },
  "language_info": {
   "codemirror_mode": {
    "name": "ipython",
    "version": 3
   },
   "file_extension": ".py",
   "mimetype": "text/x-python",
   "name": "python",
   "nbconvert_exporter": "python",
   "pygments_lexer": "ipython3",
   "version": "3.12.2"
  }
 },
 "nbformat": 4,
 "nbformat_minor": 5
}
