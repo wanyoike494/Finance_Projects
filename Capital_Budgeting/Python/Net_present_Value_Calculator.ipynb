{
 "cells": [
  {
   "cell_type": "code",
   "execution_count": 1,
   "id": "d75afa37-0b9e-4238-a8ac-544abd7ca30a",
   "metadata": {},
   "outputs": [
    {
     "name": "stdin",
     "output_type": "stream",
     "text": [
      "Enter the number of years:  5\n",
      "Enter cash flow for year 1:  3000\n",
      "Enter cash flow for year 2:  3500\n",
      "Enter cash flow for year 3:  4000\n",
      "Enter cash flow for year 4:  4500\n",
      "Enter cash flow for year 5:  5000\n",
      "Enter the initial investment:  10000\n",
      "Enter the discount rate in percentage):  10\n"
     ]
    },
    {
     "name": "stdout",
     "output_type": "stream",
     "text": [
      "The Net Present Value (NPV) of the project is: $4803.26\n"
     ]
    }
   ],
   "source": [
    "def calculate_npv(initial_investment, cash_flows, discount_rate):\n",
    "    npv = -initial_investment\n",
    "    for i in range(len(cash_flows)):\n",
    "        npv += cash_flows[i] / ((1 + discount_rate)**(i+1))\n",
    "    return round(npv, 2)\n",
    "\n",
    "def main():\n",
    "    # Prompt user to enter the number of years\n",
    "    num_years = int(input(\"Enter the number of years: \"))\n",
    "    \n",
    "    # Prompt user to enter cash flows for each year\n",
    "    cash_flows = []\n",
    "    for i in range(num_years):\n",
    "        cash_flow = float(input(f\"Enter cash flow for year {i+1}: \"))\n",
    "        cash_flows.append(cash_flow)\n",
    "    \n",
    "    # Prompt user to enter initial investment\n",
    "    initial_investment = float(input(\"Enter the initial investment: \"))\n",
    "    \n",
    "    # Prompt user to enter discount rate in percentage (round to 1 decimal place)\n",
    "    discount_rate = float(input(\"Enter the discount rate in percentage): \")) / 100\n",
    "    \n",
    "    # Calculate NPV\n",
    "    npv = calculate_npv(initial_investment, cash_flows, discount_rate)\n",
    "    \n",
    "    # Print the result\n",
    "    print(f\"The Net Present Value (NPV) of the project is: ${npv}\")\n",
    "\n",
    "if __name__ == \"__main__\":\n",
    "    main()\n"
   ]
  },
  {
   "cell_type": "code",
   "execution_count": null,
   "id": "563dff36-acf9-4fe6-b72d-85acefe214e9",
   "metadata": {},
   "outputs": [],
   "source": []
  }
 ],
 "metadata": {
  "kernelspec": {
   "display_name": "Python 3 (ipykernel)",
   "language": "python",
   "name": "python3"
  },
  "language_info": {
   "codemirror_mode": {
    "name": "ipython",
    "version": 3
   },
   "file_extension": ".py",
   "mimetype": "text/x-python",
   "name": "python",
   "nbconvert_exporter": "python",
   "pygments_lexer": "ipython3",
   "version": "3.12.2"
  }
 },
 "nbformat": 4,
 "nbformat_minor": 5
}
